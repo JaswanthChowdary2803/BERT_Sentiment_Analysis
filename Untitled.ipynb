{
 "cells": [
  {
   "cell_type": "code",
   "execution_count": 7,
   "id": "58eea131",
   "metadata": {
    "scrolled": true
   },
   "outputs": [],
   "source": [
    "import tensorflow as tf\n",
    "# pip install tensorflow==2.10.0\n",
    "# pip uninstall tensorflow-text\n",
    "# pip install tensorflow-text\n",
    "# pip install --user tensorflow==2.10.0\n",
    "# pip install --upgrade pip"
   ]
  },
  {
   "cell_type": "code",
   "execution_count": 49,
   "id": "36ca9300",
   "metadata": {},
   "outputs": [
    {
     "name": "stdout",
     "output_type": "stream",
     "text": [
      "3.9.13 (main, Aug 25 2022, 23:51:50) [MSC v.1916 64 bit (AMD64)]\n"
     ]
    }
   ],
   "source": [
    "import sys\n",
    "print(sys.version)"
   ]
  },
  {
   "cell_type": "code",
   "execution_count": 50,
   "id": "7493ce9d",
   "metadata": {},
   "outputs": [
    {
     "name": "stdout",
     "output_type": "stream",
     "text": [
      "2.10.0\n"
     ]
    }
   ],
   "source": [
    "import tensorflow as tf\n",
    "print(tf.__version__)\n"
   ]
  },
  {
   "cell_type": "code",
   "execution_count": 9,
   "id": "b6e45bc9",
   "metadata": {},
   "outputs": [],
   "source": [
    "# !pip install --upgrade tf_keras\n",
    "# AttributeError: module 'tensorflow._api.v2.compat.v2.__internal__' has no attribute 'register_load_context_function'\n",
    "import tensorflow_hub as hub"
   ]
  },
  {
   "cell_type": "code",
   "execution_count": 8,
   "id": "046dd64b",
   "metadata": {},
   "outputs": [],
   "source": [
    "import tensorflow_text"
   ]
  },
  {
   "cell_type": "code",
   "execution_count": null,
   "id": "951f61a3",
   "metadata": {},
   "outputs": [],
   "source": [
    "# import tensorflow_text as text"
   ]
  },
  {
   "cell_type": "code",
   "execution_count": null,
   "id": "15ba1a2c",
   "metadata": {
    "scrolled": false
   },
   "outputs": [],
   "source": [
    "import tensorflow as tf\n",
    "print(tf.__version__)\n"
   ]
  },
  {
   "cell_type": "code",
   "execution_count": null,
   "id": "3c7f9532",
   "metadata": {},
   "outputs": [],
   "source": [
    "# !pip install --upgrade tensorflow\n",
    "# !pip install --upgrade tensorflow-hub\n"
   ]
  },
  {
   "cell_type": "code",
   "execution_count": 10,
   "id": "1cc9b41f",
   "metadata": {},
   "outputs": [
    {
     "data": {
      "text/html": [
       "<div>\n",
       "<style scoped>\n",
       "    .dataframe tbody tr th:only-of-type {\n",
       "        vertical-align: middle;\n",
       "    }\n",
       "\n",
       "    .dataframe tbody tr th {\n",
       "        vertical-align: top;\n",
       "    }\n",
       "\n",
       "    .dataframe thead th {\n",
       "        text-align: right;\n",
       "    }\n",
       "</style>\n",
       "<table border=\"1\" class=\"dataframe\">\n",
       "  <thead>\n",
       "    <tr style=\"text-align: right;\">\n",
       "      <th></th>\n",
       "      <th>Review</th>\n",
       "      <th>Liked</th>\n",
       "    </tr>\n",
       "  </thead>\n",
       "  <tbody>\n",
       "    <tr>\n",
       "      <th>0</th>\n",
       "      <td>Wow... Loved this place.</td>\n",
       "      <td>1</td>\n",
       "    </tr>\n",
       "    <tr>\n",
       "      <th>1</th>\n",
       "      <td>Eww</td>\n",
       "      <td>0</td>\n",
       "    </tr>\n",
       "    <tr>\n",
       "      <th>2</th>\n",
       "      <td>Crust is not good.</td>\n",
       "      <td>0</td>\n",
       "    </tr>\n",
       "    <tr>\n",
       "      <th>3</th>\n",
       "      <td>Not tasty and the texture was just nasty.</td>\n",
       "      <td>0</td>\n",
       "    </tr>\n",
       "    <tr>\n",
       "      <th>4</th>\n",
       "      <td>Stopped by during the late May bank holiday of...</td>\n",
       "      <td>1</td>\n",
       "    </tr>\n",
       "  </tbody>\n",
       "</table>\n",
       "</div>"
      ],
      "text/plain": [
       "                                              Review  Liked\n",
       "0                           Wow... Loved this place.      1\n",
       "1                                                Eww      0\n",
       "2                                 Crust is not good.      0\n",
       "3          Not tasty and the texture was just nasty.      0\n",
       "4  Stopped by during the late May bank holiday of...      1"
      ]
     },
     "execution_count": 10,
     "metadata": {},
     "output_type": "execute_result"
    }
   ],
   "source": [
    "import pandas as pd\n",
    "\n",
    "df = pd.read_csv(\"Restaurant_Reviews.tsv\",delimiter = \"\\t\", quoting = 3)\n",
    "df.head(5)"
   ]
  },
  {
   "cell_type": "code",
   "execution_count": 10,
   "id": "011d5daf",
   "metadata": {},
   "outputs": [],
   "source": [
    "from sklearn.model_selection import train_test_split\n",
    "\n",
    "import tensorflow as tf\n",
    "import tensorflow_hub as hub\n",
    "from tensorflow.keras.layers import Input, LSTM, Bidirectional, Dropout, Dense\n",
    "from tensorflow.keras.models import Model\n",
    "from tensorflow.keras.callbacks import EarlyStopping\n",
    "\n"
   ]
  },
  {
   "cell_type": "code",
   "execution_count": 11,
   "id": "f301c9e5",
   "metadata": {
    "scrolled": true
   },
   "outputs": [],
   "source": [
    "# Define a custom Keras layer for BERT preprocessing\n",
    "# Load pre-trained BERT model from TensorFlow Hub\n",
    "bert_preprocess = hub.load(\"https://tfhub.dev/tensorflow/bert_en_uncased_preprocess/3\")\n",
    "bert_encoder = hub.load(\"https://tfhub.dev/tensorflow/bert_en_uncased_L-12_H-768_A-12/3\")\n"
   ]
  },
  {
   "cell_type": "code",
   "execution_count": 12,
   "id": "02a1f1d5",
   "metadata": {},
   "outputs": [],
   "source": [
    "\n",
    "\n",
    "class BERTPreprocessLayer(tf.keras.layers.Layer):\n",
    "    def call(self, inputs):\n",
    "        return bert_preprocess(inputs)\n",
    "\n",
    "# Define a custom Keras layer for BERT encoding\n",
    "class BERTEncoderLayer(tf.keras.layers.Layer):\n",
    "    def call(self, inputs):\n",
    "        return bert_encoder(inputs)\n",
    "\n",
    "# Load example dataset (e.g., IMDB reviews)\n",
    "# Replace this with your dataset loading code\n",
    "# X_train, y_train, X_val, y_val = load_dataset()\n",
    "\n"
   ]
  },
  {
   "cell_type": "code",
   "execution_count": 11,
   "id": "623f9963",
   "metadata": {},
   "outputs": [],
   "source": [
    "# Assuming X_train and y_train are loaded\n",
    "X_train, X_test, y_train, y_test = train_test_split(df['Review'],df['Liked'], random_state=10)\n",
    "# Bert layers\n",
    "text_input = Input(shape=(), dtype=tf.string, name='text')\n",
    "preprocessed_text = BERTPreprocessLayer()(text_input)\n",
    "encoded_text = BERTEncoderLayer()(preprocessed_text)\n",
    "\n",
    "# Extract BERT outputs\n",
    "sequence_output = encoded_text['sequence_output']  # Get BERT's sequence output\n",
    "\n",
    "# Define an RNN layer\n",
    "lstm_layer = LSTM(128, return_sequences=False)\n",
    "\n",
    "# Bidirectional wrapper for LSTM layer\n",
    "bidirectional_lstm = Bidirectional(lstm_layer)(sequence_output)\n",
    "\n",
    "# Dropout layer for regularization\n",
    "dropout = Dropout(0.1)(bidirectional_lstm)\n",
    "\n",
    "# Output layer\n"
   ]
  },
  {
   "cell_type": "code",
   "execution_count": 39,
   "id": "29b47f00",
   "metadata": {},
   "outputs": [
    {
     "name": "stdout",
     "output_type": "stream",
     "text": [
      "Epoch 1/6\n",
      "11/11 [==============================] - 97s 8s/step - loss: 0.2218 - accuracy: 0.8765 - val_loss: 0.1269 - val_accuracy: 0.9643\n",
      "Epoch 2/6\n",
      "11/11 [==============================] - 86s 8s/step - loss: 0.0682 - accuracy: 0.9759 - val_loss: 0.0999 - val_accuracy: 0.9643\n",
      "Epoch 3/6\n",
      "11/11 [==============================] - 93s 9s/step - loss: 0.0606 - accuracy: 0.9819 - val_loss: 0.1462 - val_accuracy: 0.9643\n",
      "Epoch 4/6\n",
      "11/11 [==============================] - 95s 9s/step - loss: 0.0397 - accuracy: 0.9849 - val_loss: 0.2928 - val_accuracy: 0.8690\n"
     ]
    },
    {
     "data": {
      "text/plain": [
       "<keras.callbacks.History at 0x1a5ff7ef6d0>"
      ]
     },
     "execution_count": 39,
     "metadata": {},
     "output_type": "execute_result"
    }
   ],
   "source": [
    "output = Dense(1, activation='sigmoid')(dropout)\n",
    "\n",
    "# Construct final model\n",
    "model = Model(inputs=text_input, outputs=output)\n",
    "\n",
    "# Compile the model\n",
    "model.compile(optimizer='adam',\n",
    "              loss='binary_crossentropy',\n",
    "              metrics=['accuracy'])\n",
    "\n",
    "# Define EarlyStopping callback\n",
    "early_stopping_callback = EarlyStopping(monitor='val_accuracy', patience=3, restore_best_weights=True)\n",
    "\n",
    "# Train the model with the EarlyStopping callback\n",
    "model.fit(X_train, y_train, epochs=6, validation_split=0.2, callbacks=[early_stopping_callback])\n",
    "\n"
   ]
  },
  {
   "cell_type": "code",
   "execution_count": 40,
   "id": "20b2929a",
   "metadata": {},
   "outputs": [
    {
     "name": "stdout",
     "output_type": "stream",
     "text": [
      "5/5 [==============================] - 31s 6s/step - loss: 0.2797 - accuracy: 0.9137\n"
     ]
    },
    {
     "data": {
      "text/plain": [
       "[0.2797204852104187, 0.9136690497398376]"
      ]
     },
     "execution_count": 40,
     "metadata": {},
     "output_type": "execute_result"
    }
   ],
   "source": [
    "model.evaluate(X_test, y_test)"
   ]
  },
  {
   "cell_type": "code",
   "execution_count": 41,
   "id": "8194b255",
   "metadata": {},
   "outputs": [],
   "source": [
    "model.save('my_BERT_modelfinal.h5')"
   ]
  },
  {
   "cell_type": "code",
   "execution_count": 13,
   "id": "747152f7",
   "metadata": {},
   "outputs": [],
   "source": [
    "import tensorflow as tf\n",
    "\n",
    "# Load the saved model with custom objects\n",
    "loaded_model = tf.keras.models.load_model(\n",
    "    \"my_BERT_modelfinal.h5\",\n",
    "    custom_objects={\n",
    "        'BERTPreprocessLayer': BERTPreprocessLayer,\n",
    "        'BERTEncoderLayer': BERTEncoderLayer\n",
    "    }\n",
    ")\n",
    "\n"
   ]
  },
  {
   "cell_type": "code",
   "execution_count": 14,
   "id": "e01dc1f1",
   "metadata": {},
   "outputs": [
    {
     "name": "stdout",
     "output_type": "stream",
     "text": [
      "1/1 [==============================] - 2s 2s/step\n",
      "Predicted probability: [[0.0185675]]\n"
     ]
    }
   ],
   "source": [
    "# Example input text\n",
    "input_text = \"you others are bad boys and girls\"\n",
    "\n",
    "# Preprocess the input text using the BERT preprocessing layer\n",
    "# preprocessed_input = bert_preprocess(input_text)\n",
    "\n",
    "# Make a prediction using the loaded model\n",
    "prediction = loaded_model.predict([input_text])\n",
    "\n",
    "# Print the prediction\n",
    "print(\"Predicted probability:\", prediction)\n"
   ]
  },
  {
   "cell_type": "code",
   "execution_count": 45,
   "id": "eacfe236",
   "metadata": {},
   "outputs": [
    {
     "name": "stdout",
     "output_type": "stream",
     "text": [
      "hey stupid\n"
     ]
    }
   ],
   "source": [
    "# !pip install SpeechRecognition\n",
    "\n",
    "import speech_recognition as sr\n",
    "\n",
    "# Initialize recognizer\n",
    "recognizer = sr.Recognizer()\n",
    "\n",
    "# Load audio file\n",
    "audio_file_path = \"WhatsApp Audio 2024-03-04 at 01.44.28_b7677fda.wav\"  # Replace with the path to your audio file\n",
    "with sr.AudioFile(audio_file_path) as source:\n",
    "    audio = recognizer.record(source)\n",
    "\n",
    "# Recognize speech using Google Speech Recognition\n",
    "try:\n",
    "    text = recognizer.recognize_google(audio)\n",
    "    print(text)\n",
    "except sr.UnknownValueError:\n",
    "    print(\"Google Speech Recognition could not understand audio\")\n",
    "except sr.RequestError as e:\n",
    "    print(\"Could not request results from Google Speech Recognition service; {0}\".format(e))\n"
   ]
  },
  {
   "cell_type": "code",
   "execution_count": 46,
   "id": "80228295",
   "metadata": {},
   "outputs": [
    {
     "name": "stdout",
     "output_type": "stream",
     "text": [
      "1/1 [==============================] - 1s 1s/step\n"
     ]
    },
    {
     "data": {
      "text/plain": [
       "array([[0.6872338]], dtype=float32)"
      ]
     },
     "execution_count": 46,
     "metadata": {},
     "output_type": "execute_result"
    }
   ],
   "source": [
    "l=[text]\n",
    "# l=l.append(text)\n",
    "pred=loaded_model.predict(l)\n",
    "pred"
   ]
  },
  {
   "cell_type": "code",
   "execution_count": 47,
   "id": "f7db062d",
   "metadata": {},
   "outputs": [
    {
     "name": "stdout",
     "output_type": "stream",
     "text": [
      "Not Happy\n"
     ]
    }
   ],
   "source": [
    "import numpy as np\n",
    "\n",
    "# Set a threshold for classification\n",
    "threshold = 0.7\n",
    "\n",
    "# Interpret predictions\n",
    "if pred[0][0] > threshold:\n",
    "    sentiment = \"Happy\"\n",
    "else:\n",
    "    sentiment = \"Not Happy\"\n",
    "\n",
    "# Print the sentiment\n",
    "print(sentiment)\n"
   ]
  },
  {
   "cell_type": "code",
   "execution_count": null,
   "id": "17b5b2ac",
   "metadata": {},
   "outputs": [],
   "source": []
  }
 ],
 "metadata": {
  "kernelspec": {
   "display_name": "Python 3 (ipykernel)",
   "language": "python",
   "name": "python3"
  },
  "language_info": {
   "codemirror_mode": {
    "name": "ipython",
    "version": 3
   },
   "file_extension": ".py",
   "mimetype": "text/x-python",
   "name": "python",
   "nbconvert_exporter": "python",
   "pygments_lexer": "ipython3",
   "version": "3.9.13"
  }
 },
 "nbformat": 4,
 "nbformat_minor": 5
}
